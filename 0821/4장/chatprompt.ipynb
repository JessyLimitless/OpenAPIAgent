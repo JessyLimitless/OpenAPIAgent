{
 "cells": [
  {
   "cell_type": "code",
   "execution_count": 1,
   "metadata": {},
   "outputs": [
    {
     "name": "stdout",
     "output_type": "stream",
     "text": [
      "Requirement already satisfied: openai in c:\\users\\j0708\\desktop\\0727\\.venv\\lib\\site-packages (0.28.0)\n",
      "Requirement already satisfied: requests>=2.20 in c:\\users\\j0708\\desktop\\0727\\.venv\\lib\\site-packages (from openai) (2.32.3)\n",
      "Requirement already satisfied: tqdm in c:\\users\\j0708\\desktop\\0727\\.venv\\lib\\site-packages (from openai) (4.66.4)\n",
      "Requirement already satisfied: aiohttp in c:\\users\\j0708\\desktop\\0727\\.venv\\lib\\site-packages (from openai) (3.9.5)\n",
      "Requirement already satisfied: charset-normalizer<4,>=2 in c:\\users\\j0708\\desktop\\0727\\.venv\\lib\\site-packages (from requests>=2.20->openai) (3.3.2)\n",
      "Requirement already satisfied: idna<4,>=2.5 in c:\\users\\j0708\\desktop\\0727\\.venv\\lib\\site-packages (from requests>=2.20->openai) (3.7)\n",
      "Requirement already satisfied: urllib3<3,>=1.21.1 in c:\\users\\j0708\\desktop\\0727\\.venv\\lib\\site-packages (from requests>=2.20->openai) (2.2.2)\n",
      "Requirement already satisfied: certifi>=2017.4.17 in c:\\users\\j0708\\desktop\\0727\\.venv\\lib\\site-packages (from requests>=2.20->openai) (2024.7.4)\n",
      "Requirement already satisfied: aiosignal>=1.1.2 in c:\\users\\j0708\\desktop\\0727\\.venv\\lib\\site-packages (from aiohttp->openai) (1.3.1)\n",
      "Requirement already satisfied: attrs>=17.3.0 in c:\\users\\j0708\\desktop\\0727\\.venv\\lib\\site-packages (from aiohttp->openai) (23.2.0)\n",
      "Requirement already satisfied: frozenlist>=1.1.1 in c:\\users\\j0708\\desktop\\0727\\.venv\\lib\\site-packages (from aiohttp->openai) (1.4.1)\n",
      "Requirement already satisfied: multidict<7.0,>=4.5 in c:\\users\\j0708\\desktop\\0727\\.venv\\lib\\site-packages (from aiohttp->openai) (6.0.5)\n",
      "Requirement already satisfied: yarl<2.0,>=1.0 in c:\\users\\j0708\\desktop\\0727\\.venv\\lib\\site-packages (from aiohttp->openai) (1.9.4)\n",
      "Requirement already satisfied: colorama in c:\\users\\j0708\\desktop\\0727\\.venv\\lib\\site-packages (from tqdm->openai) (0.4.6)\n"
     ]
    }
   ],
   "source": [
    "!pip install openai"
   ]
  },
  {
   "cell_type": "code",
   "execution_count": 2,
   "metadata": {},
   "outputs": [],
   "source": [
    "import openai\n",
    "from langchain.chat_models import ChatOpenAI\n",
    "from langchain.schema import SystemMessage, HumanMessage\n",
    "\n",
    "# OpenAI API 키 설정\n",
    "OPENAI_API_KEY = ''  "
   ]
  },
  {
   "cell_type": "code",
   "execution_count": 4,
   "metadata": {},
   "outputs": [],
   "source": [
    "# 시스템 메시지 설정\n",
    "system_message = SystemMessage(content=\"\"\"\n",
    "당신은 과학을 재미있게 설명해주는 과학 커뮤니케이터입니다. 당신의 임무는 복잡한 주제를 초등학생도 이해할 수 있도록 쉽게 설명하는 것입니다. \n",
    "간단한 언어를 사용하고, 관련 있는 예시를 들며, 설명을 간결하고 흥미롭게 유지하세요.\n",
    "\"\"\")\n"
   ]
  },
  {
   "cell_type": "code",
   "execution_count": 5,
   "metadata": {},
   "outputs": [
    {
     "name": "stderr",
     "output_type": "stream",
     "text": [
      "c:\\Users\\j0708\\Desktop\\0727\\.venv\\Lib\\site-packages\\langchain_core\\_api\\deprecation.py:139: LangChainDeprecationWarning: The class `ChatOpenAI` was deprecated in LangChain 0.0.10 and will be removed in 0.3.0. An updated version of the class exists in the langchain-openai package and should be used instead. To use it run `pip install -U langchain-openai` and import as `from langchain_openai import ChatOpenAI`.\n",
      "  warn_deprecated(\n"
     ]
    }
   ],
   "source": [
    "# OpenAI Chat 모델 설정\n",
    "chat = ChatOpenAI(\n",
    "    temperature=0,\n",
    "    model_name='gpt-3.5-turbo',\n",
    "    openai_api_key=OPENAI_API_KEY\n",
    ")\n",
    "\n",
    "def get_explanation(topic):\n",
    "    try:\n",
    "        # 메시지 생성\n",
    "        messages = [\n",
    "            system_message,\n",
    "            HumanMessage(content=f\"초등학생도 이해할 수 있게 {topic}에 대해 설명해 주세요. 간단한 언어와 예시를 사용하세요.\")\n",
    "        ]\n",
    "        # 응답 생성\n",
    "        response = chat(messages)\n",
    "        # 응답 반환\n",
    "        return response.content\n",
    "    except Exception as e:\n",
    "        return f\"Error: {e}\""
   ]
  },
  {
   "cell_type": "code",
   "execution_count": 6,
   "metadata": {},
   "outputs": [
    {
     "name": "stderr",
     "output_type": "stream",
     "text": [
      "c:\\Users\\j0708\\Desktop\\0727\\.venv\\Lib\\site-packages\\langchain_core\\_api\\deprecation.py:139: LangChainDeprecationWarning: The method `BaseChatModel.__call__` was deprecated in langchain-core 0.1.7 and will be removed in 0.3.0. Use invoke instead.\n",
      "  warn_deprecated(\n"
     ]
    },
    {
     "name": "stdout",
     "output_type": "stream",
     "text": [
      "### 설명 📚\n",
      "원자는 모든 물질을 이루는 작은 입자야. 생각해봐, 레고 조립을 할 때 작은 조각들을 합쳐서 큰 건물을 만드는 것처럼, 원자들도 모여서 모든 것을 만들어. \n",
      "\n",
      "예를 들어, 물은 수소 원자 두 개와 산소 원자 하나가 모여서 만들어진 거야. 이렇게 원자들이 모여서 다양한 물질을 만들어내는 거야. \n",
      "\n",
      "원자 안에는 더 작은 입자들이 있어. 원자는 양자론에서 가장 작은 입자로 여겨져. 이렇게 작은 원자들이 모여서 우리 주변의 모든 것을 이루고 있어.\n"
     ]
    }
   ],
   "source": [
    "if __name__ == \"__main__\":\n",
    "    # 사용자 입력 받기\n",
    "    topic = input('설명할 과학 주제를 입력하세요: ')\n",
    "    \n",
    "    # 설명 생성\n",
    "    explanation = get_explanation(topic)\n",
    "    \n",
    "    # 결과 출력\n",
    "    if explanation.startswith(\"Error:\"):\n",
    "        print(explanation)\n",
    "    else:\n",
    "        print('### 설명 📚')\n",
    "        print(explanation)"
   ]
  }
 ],
 "metadata": {
  "kernelspec": {
   "display_name": ".venv",
   "language": "python",
   "name": "python3"
  },
  "language_info": {
   "codemirror_mode": {
    "name": "ipython",
    "version": 3
   },
   "file_extension": ".py",
   "mimetype": "text/x-python",
   "name": "python",
   "nbconvert_exporter": "python",
   "pygments_lexer": "ipython3",
   "version": "3.12.3"
  }
 },
 "nbformat": 4,
 "nbformat_minor": 2
}
