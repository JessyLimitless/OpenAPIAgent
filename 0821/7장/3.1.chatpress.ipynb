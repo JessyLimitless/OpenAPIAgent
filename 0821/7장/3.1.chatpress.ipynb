{
 "cells": [
  {
   "cell_type": "code",
   "execution_count": 5,
   "metadata": {},
   "outputs": [
    {
     "name": "stdout",
     "output_type": "stream",
     "text": [
      "Requirement already satisfied: openai==0.28 in c:\\users\\j0708\\desktop\\0727\\.venv\\lib\\site-packages (0.28.0)\n",
      "Requirement already satisfied: requests>=2.20 in c:\\users\\j0708\\desktop\\0727\\.venv\\lib\\site-packages (from openai==0.28) (2.32.3)\n",
      "Requirement already satisfied: tqdm in c:\\users\\j0708\\desktop\\0727\\.venv\\lib\\site-packages (from openai==0.28) (4.66.4)\n",
      "Requirement already satisfied: aiohttp in c:\\users\\j0708\\desktop\\0727\\.venv\\lib\\site-packages (from openai==0.28) (3.9.5)\n",
      "Requirement already satisfied: charset-normalizer<4,>=2 in c:\\users\\j0708\\desktop\\0727\\.venv\\lib\\site-packages (from requests>=2.20->openai==0.28) (3.3.2)\n",
      "Requirement already satisfied: idna<4,>=2.5 in c:\\users\\j0708\\desktop\\0727\\.venv\\lib\\site-packages (from requests>=2.20->openai==0.28) (3.7)\n",
      "Requirement already satisfied: urllib3<3,>=1.21.1 in c:\\users\\j0708\\desktop\\0727\\.venv\\lib\\site-packages (from requests>=2.20->openai==0.28) (2.2.2)\n",
      "Requirement already satisfied: certifi>=2017.4.17 in c:\\users\\j0708\\desktop\\0727\\.venv\\lib\\site-packages (from requests>=2.20->openai==0.28) (2024.7.4)\n",
      "Requirement already satisfied: aiosignal>=1.1.2 in c:\\users\\j0708\\desktop\\0727\\.venv\\lib\\site-packages (from aiohttp->openai==0.28) (1.3.1)\n",
      "Requirement already satisfied: attrs>=17.3.0 in c:\\users\\j0708\\desktop\\0727\\.venv\\lib\\site-packages (from aiohttp->openai==0.28) (23.2.0)\n",
      "Requirement already satisfied: frozenlist>=1.1.1 in c:\\users\\j0708\\desktop\\0727\\.venv\\lib\\site-packages (from aiohttp->openai==0.28) (1.4.1)\n",
      "Requirement already satisfied: multidict<7.0,>=4.5 in c:\\users\\j0708\\desktop\\0727\\.venv\\lib\\site-packages (from aiohttp->openai==0.28) (6.0.5)\n",
      "Requirement already satisfied: yarl<2.0,>=1.0 in c:\\users\\j0708\\desktop\\0727\\.venv\\lib\\site-packages (from aiohttp->openai==0.28) (1.9.4)\n",
      "Requirement already satisfied: colorama in c:\\users\\j0708\\desktop\\0727\\.venv\\lib\\site-packages (from tqdm->openai==0.28) (0.4.6)\n"
     ]
    }
   ],
   "source": [
    "!pip install openai==0.28"
   ]
  },
  {
   "cell_type": "code",
   "execution_count": 2,
   "metadata": {},
   "outputs": [],
   "source": [
    "import openai\n",
    "\n",
    "# OpenAI API 키 설정\n",
    "openai.api_key = ''"
   ]
  },
  {
   "cell_type": "code",
   "execution_count": 3,
   "metadata": {},
   "outputs": [
    {
     "name": "stdout",
     "output_type": "stream",
     "text": [
      "보도자료 생성기\n"
     ]
    }
   ],
   "source": [
    "def generate_press_release(topic, content, date, company_info):\n",
    "    # 보다 구체적인 프롬프트를 사용하여 설득력 있는 홍보 문구 생성\n",
    "    prompt = f\"\"\"\n",
    "    다음 정보에 기반하여 설득력 있고 전문적인 보도자료를 작성하십시오. :\n",
    "    주제: {topic}\n",
    "    주요 내용: {content}\n",
    "    발표 날짜: {date}\n",
    "    회사 정보: {company_info}\n",
    "\n",
    "    혜택을 강조하고, 잠재 고객의 우려를 해결하며, 강력한 행동 유도 문구를 포함하십시오.\n",
    "    \"\"\"\n",
    "    try:\n",
    "        response = openai.ChatCompletion.create(\n",
    "            model=\"gpt-3.5-turbo\",  # Specify the correct GPT-4 model designed for chat\n",
    "            messages=[\n",
    "                {\"role\": \"system\", \"content\": \"전문적인 보도자료를 생성하십시오.\"},\n",
    "                {\"role\": \"user\", \"content\": prompt}\n",
    "            ],\n",
    "            max_tokens=1000\n",
    "        )\n",
    "        return response['choices'][0]['message']['content']\n",
    "    except openai.error.OpenAIError as e:\n",
    "        print(f\"An error occurred: {e}\")\n",
    "        return None\n",
    "\n",
    "print('보도자료 생성기')"
   ]
  },
  {
   "cell_type": "code",
   "execution_count": 4,
   "metadata": {},
   "outputs": [
    {
     "name": "stdout",
     "output_type": "stream",
     "text": [
      "보도자료가 성공적으로 생성되었습니다!\n",
      "\n",
      "보도자료:\n",
      "\n",
      "**보도 자료**\n",
      "\n",
      "---\n",
      "\n",
      "**디지털 위원회 출범, 디지털 혁명 속 과감한 전환!**\n",
      "\n",
      "**서울, 2024년 8월 8일** - 행정안전부가 오늘 디지털 위원회 출범을 발표했다. 이번 결정은 국가의 디지털 혁명을 이끌어갈 핵심 조직인 위원회가 올해 8월 8일에 출범하게 된다는 의미를 담고 있다.\n",
      "\n",
      "디지털 위원회의 출범으로 혁신적이고 효율적인 디지털 정책을 구축하고, 디지털 시대에 선도하는 국가로서의 발전을 위한 기반이 마련되었다. 이제부터 더 빠르고 스마트한 사회에 한 걸음 더 다가서게 될 것이다.\n",
      "\n",
      "디지털 위원회에 대한 이러한 도전적인 결심은 우리가 디지털 시대에 뒤처지지 않고, 미래를 이끌어 나갈 의지를 보여주는 것이다. 이는 국민들에게 안정과 혁신의 더 큰 가능성을 제공하게 되며, 국가 발전을 위한 새로운 기회를 창출할 것이다.\n",
      "\n",
      "**혜택을 강조**\n",
      "\n",
      "- 디지털 위원회의 출범으로 국가의 디지털 트랜스포메이션이 가속화될 것이며, 국민들에게 안정과 혁신을 동시에 제공합니다.\n",
      "- 디지털 정책에 대한 투명성과 혁신을 증진시켜, 국가 기관과 시민 간의 유대감을 높일 것입니다.\n",
      "  \n",
      "**잠재 고객의 우려 해결**\n",
      "\n",
      "- 디지털 위원회는 국민의 개인 정보 보호와 디지털 삶의 질 향상을 최우선 과제로 삼고 있습니다.\n",
      "- 디지털 위원회는 공정하고 투명한 프로세스를 통해 국민들의 의견을 수렴하고, 견고한 디지털 정책을 수립할 것입니다.\n",
      "  \n",
      "**강력한 행동 유도 문구**\n",
      "\n",
      "- 디지털 시대에 함께할 준비가 되셨습니까? 느릴 수 없는 국가의 디지털 혁명, 여러분의 참여가 필요합니다!\n",
      "- 이제, 디지털 혁명을 이끌 디지털 위원회와 함께하여 더 나은 미래를 향해 함께 나아갈 준비가 되지 않았습니까?\n",
      "\n",
      "디지털 위원회의 출범을 통해, 우리는 더 나은 미래를 위해 단합할 것이며, 디지털 혁명의 주역으로 거듭날 것입니다. 자세한 내용은 행정안전부 웹사이트를 통해 확인하실 수 있습니다.\n",
      "\n",
      "---\n",
      "\n",
      "**미디어 문의:**\n",
      "\n",
      "행정안전부 디지털 혁신본부\n",
      "이메일: digitalinnovation@mois.kr\n",
      "전화: 02-1234-5678\n",
      "\n",
      "--- \n",
      "\n",
      "**끝.**\n"
     ]
    }
   ],
   "source": [
    "# 사용자 입력 받기\n",
    "topic = input(\"주제: \")\n",
    "content = input(\"주요 내용: \")\n",
    "release_date = input(\"발표 날짜 (YYYY-MM-DD): \")\n",
    "company_info = input(\"회사 정보: \")\n",
    "\n",
    "if topic and content and company_info:\n",
    "    generated_press_release = generate_press_release(topic, content, release_date, company_info)\n",
    "    if generated_press_release:\n",
    "        print(\"보도자료가 성공적으로 생성되었습니다!\")\n",
    "        print(\"\\n보도자료:\\n\")\n",
    "        print(generated_press_release)\n",
    "    else:\n",
    "        print(\"보도자료 생성에 실패했습니다.\")\n",
    "else:\n",
    "    print(\"모든 입력란을 채워주세요.\")"
   ]
  }
 ],
 "metadata": {
  "kernelspec": {
   "display_name": ".venv",
   "language": "python",
   "name": "python3"
  },
  "language_info": {
   "codemirror_mode": {
    "name": "ipython",
    "version": 3
   },
   "file_extension": ".py",
   "mimetype": "text/x-python",
   "name": "python",
   "nbconvert_exporter": "python",
   "pygments_lexer": "ipython3",
   "version": "3.12.3"
  }
 },
 "nbformat": 4,
 "nbformat_minor": 2
}
