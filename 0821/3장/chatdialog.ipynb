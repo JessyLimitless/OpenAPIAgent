{
 "cells": [
  {
   "cell_type": "code",
   "execution_count": 1,
   "metadata": {},
   "outputs": [],
   "source": [
    "!pip install openai==0.28 langchain "
   ]
  },
  {
   "cell_type": "code",
   "execution_count": 2,
   "metadata": {},
   "outputs": [],
   "source": [
    "from langchain.chat_models import ChatOpenAI\n",
    "from langchain.chains import ConversationChain\n",
    "from langchain.memory import ConversationBufferMemory\n",
    "\n",
    "# OpenAI API 키 설정 (하드코딩)\n",
    "openai_api_key = \"\""
   ]
  },
  {
   "cell_type": "code",
   "execution_count": 3,
   "metadata": {},
   "outputs": [
    {
     "name": "stderr",
     "output_type": "stream",
     "text": [
      "c:\\Users\\j0708\\Desktop\\0821\\.venv\\Lib\\site-packages\\langchain_core\\_api\\deprecation.py:139: LangChainDeprecationWarning: The class `ChatOpenAI` was deprecated in LangChain 0.0.10 and will be removed in 0.3.0. An updated version of the class exists in the langchain-openai package and should be used instead. To use it run `pip install -U langchain-openai` and import as `from langchain_openai import ChatOpenAI`.\n",
      "  warn_deprecated(\n",
      "c:\\Users\\j0708\\Desktop\\0821\\.venv\\Lib\\site-packages\\langchain_core\\_api\\deprecation.py:139: LangChainDeprecationWarning: The class `ConversationChain` was deprecated in LangChain 0.2.7 and will be removed in 1.0. Use RunnableWithMessageHistory: https://api.python.langchain.com/en/latest/runnables/langchain_core.runnables.history.RunnableWithMessageHistory.html instead.\n",
      "  warn_deprecated(\n"
     ]
    }
   ],
   "source": [
    "# GPT-3.5 터보 모델 설정\n",
    "llm = ChatOpenAI(model_name=\"gpt-3.5-turbo\", openai_api_key=openai_api_key)\n",
    "\n",
    "# 메모리 설정\n",
    "memory = ConversationBufferMemory()\n",
    "\n",
    "# ConversationChain 생성\n",
    "conversation = ConversationChain(llm=llm, memory=memory)\n",
    "\n",
    "# 대화 기록을 저장할 리스트 초기화\n",
    "chat_history = []"
   ]
  },
  {
   "cell_type": "code",
   "execution_count": 4,
   "metadata": {},
   "outputs": [
    {
     "name": "stderr",
     "output_type": "stream",
     "text": [
      "c:\\Users\\j0708\\Desktop\\0821\\.venv\\Lib\\site-packages\\langchain_core\\_api\\deprecation.py:139: LangChainDeprecationWarning: The method `Chain.run` was deprecated in langchain 0.1.0 and will be removed in 0.3.0. Use invoke instead.\n",
      "  warn_deprecated(\n"
     ]
    },
    {
     "name": "stdout",
     "output_type": "stream",
     "text": [
      "Assistant: 안녕하세요! 반가워요. 어떻게 도와드릴까요?\n",
      "Assistant: Goodbye!\n"
     ]
    }
   ],
   "source": [
    "# 사용자 입력 받기 및 챗봇과 상호작용\n",
    "def chat_with_bot():\n",
    "    while True:\n",
    "        # 사용자 입력 받기\n",
    "        user_query = input(\"You: \")\n",
    "\n",
    "        # 종료 조건\n",
    "        if user_query.lower() == '종료':\n",
    "            print(\"Assistant: Goodbye!\")\n",
    "            break\n",
    "\n",
    "        # 챗봇 응답 생성\n",
    "        response = conversation.run(input=user_query)\n",
    "\n",
    "        # 대화 기록에 추가\n",
    "        chat_history.append({\"role\": \"user\", \"content\": user_query})\n",
    "        chat_history.append({\"role\": \"assistant\", \"content\": response})\n",
    "\n",
    "        # 응답 출력\n",
    "        print(f\"Assistant: {response}\")\n",
    "\n",
    "# 챗봇과 상호작용 시작\n",
    "chat_with_bot()"
   ]
  },
  {
   "cell_type": "markdown",
   "metadata": {},
   "source": []
  }
 ],
 "metadata": {
  "kernelspec": {
   "display_name": ".venv",
   "language": "python",
   "name": "python3"
  },
  "language_info": {
   "codemirror_mode": {
    "name": "ipython",
    "version": 3
   },
   "file_extension": ".py",
   "mimetype": "text/x-python",
   "name": "python",
   "nbconvert_exporter": "python",
   "pygments_lexer": "ipython3",
   "version": "3.12.3"
  }
 },
 "nbformat": 4,
 "nbformat_minor": 2
}
